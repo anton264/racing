{
 "cells": [
  {
   "cell_type": "code",
   "execution_count": null,
   "id": "0bfb864c",
   "metadata": {},
   "outputs": [],
   "source": [
    "import influxdb_client\n",
    "from influxdb_client.client.write_api import SYNCHRONOUS\n",
    "\n",
    "bucket = \"racing\"\n",
    "org = \"b4mad\"\n",
    "token=\"PFmq_uLsJ8NZXYuq9zBbNsCbxuerXIapE4N_2kjLzyWauLyZqbscrEJRJw25upSJ1-tKJQAJa8GfItx7Sl4SOw==\"\n",
    "url=\"https://telemetry.b4mad.racing/\"\n",
    "\n",
    "client = influxdb_client.InfluxDBClient(\n",
    "   url=url,\n",
    "   token=token,\n",
    "   org=org\n",
    ")\n",
    "\n",
    "query_api = client.query_api()\n",
    "\n",
    "query = ' from(bucket: \"racing\") \\\n",
    "  |> range(start: 2022-05-08T11:43:37.251Z, stop:2022-05-08T12:30:39.231Z) \\\n",
    "  |> filter(fn: (r) => r[\"_measurement\"] == \"laps\") \\\n",
    "  |> filter(fn: (r) => r[\"SessionId\"] == \"89db51de-22a6-4033-8201-2fc37a5fe905\") \\\n",
    "  |> filter(fn: (r) => (r[\"_field\"] == \"Brake\" or r[\"_field\"] == \"Clutch\" or r[\"_field\"] == \"Throttle\")) \\\n",
    "  |> aggregateWindow(every: 2s, fn: mean, createEmpty: false) \\\n",
    "  |> yield(name: \"mean\") ' \n",
    "\n",
    "result = query_api.query(org=org, query=query)\n",
    "\n",
    "results = []\n",
    "for table in result:\n",
    "  for record in table.records:\n",
    "    results.append((record.get_field(), record.get_value()))\n",
    "\n",
    "print(results)"
   ]
  }
 ],
 "metadata": {
  "kernelspec": {
   "display_name": "Python 3 (ipykernel)",
   "language": "python",
   "name": "python3"
  },
  "language_info": {
   "codemirror_mode": {
    "name": "ipython",
    "version": 3
   },
   "file_extension": ".py",
   "mimetype": "text/x-python",
   "name": "python",
   "nbconvert_exporter": "python",
   "pygments_lexer": "ipython3",
   "version": "3.10.6"
  }
 },
 "nbformat": 4,
 "nbformat_minor": 5
}
