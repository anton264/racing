{
 "cells": [
  {
   "cell_type": "markdown",
   "id": "9ff2d42b",
   "metadata": {},
   "source": [
    "# Exploratory Data Analysis\n",
    "\n",
    "Let's create an InfluxDB client by importing the modules and setting all the required configuration. "
   ]
  },
  {
   "cell_type": "code",
   "execution_count": 1,
   "id": "d50e1502",
   "metadata": {},
   "outputs": [],
   "source": [
    "import os\n",
    "import influxdb_client\n",
    "from influxdb_client.client.write_api import SYNCHRONOUS\n",
    "\n",
    "# configure influxdb client\n",
    "BUCKET = \"racing\"\n",
    "ORG = \"b4mad\"\n",
    "TOKEN = os.environ.get(\n",
    "    \"INFLUXDB_TOKEN\",\n",
    "    \"citqAMr66LLb25hvaaZm2LezOc88k2ocOFJcJDR6QB-RmLJa_-sAr9kYB4vSFYaz8bt26lm7SokVgpQKdgKFKA==\",\n",
    ")\n",
    "URL = \"https://telemetry.b4mad.racing/\"\n",
    "\n",
    "# and create the client and a quary api\n",
    "client = influxdb_client.InfluxDBClient(url=URL, token=TOKEN, org=ORG)\n",
    "\n",
    "query_api = client.query_api()"
   ]
  },
  {
   "cell_type": "code",
   "execution_count": 4,
   "id": "0eb1ec77",
   "metadata": {},
   "outputs": [
    {
     "name": "stdout",
     "output_type": "stream",
     "text": [
      "lap 1 finished with a time of 135.6537\n",
      "lap 2.0 finished with a time of 126.602333\n",
      "lap 3.0 finished with a time of 126.9306\n",
      "lap 4.0 finished with a time of 126.477264\n",
      "lap 5.0 finished with a time of 126.411964\n",
      "lap 6.0 finished with a time of 128.554626\n",
      "lap 7.0 finished with a time of 127.8808\n"
     ]
    }
   ],
   "source": [
    "SESSION = \"1668412932\"\n",
    "\n",
    "query = f\"\"\"\n",
    "from(bucket: \"{BUCKET}\")\n",
    "  |> range(start: -10y, stop: now())\n",
    "  |> filter(fn: (r) => r[\"_measurement\"] == \"laps_cc\")\n",
    "  |> filter(fn: (r) => r[\"_field\"] == \"CurrentLap\" or r[\"_field\"] == \"CurrentLapTime\")\n",
    "  |> filter(fn: (r) => r[\"SessionId\"] == \"{SESSION}\")\n",
    "  |> pivot(rowKey: [\"_time\"], columnKey: [\"_field\"], valueColumn: \"_value\")\n",
    "  |> sort(columns: [\"_time\"], desc: false)\n",
    "\"\"\"\n",
    "\n",
    "records = query_api.query_stream(org=ORG, query=query)\n",
    "\n",
    "current_lap = 1\n",
    "maxLapTime = 0\n",
    "for record in records:\n",
    "    if record[\"CurrentLap\"] != current_lap:\n",
    "        print(f\"lap {current_lap} finished with a time of {maxLapTime}\")\n",
    "        current_lap = record[\"CurrentLap\"]\n",
    "    maxLapTime = record[\"CurrentLapTime\"]"
   ]
  }
 ],
 "metadata": {
  "kernelspec": {
   "display_name": "Python 3 (ipykernel)",
   "language": "python",
   "name": "python3"
  },
  "language_info": {
   "codemirror_mode": {
    "name": "ipython",
    "version": 3
   },
   "file_extension": ".py",
   "mimetype": "text/x-python",
   "name": "python",
   "nbconvert_exporter": "python",
   "pygments_lexer": "ipython3",
   "version": "3.10.8"
  },
  "vscode": {
   "interpreter": {
    "hash": "efb513bf1177cd96c1ccbb28c57410f06184e0523fcbda4e0a04c4c0f56210ff"
   }
  }
 },
 "nbformat": 4,
 "nbformat_minor": 5
}
