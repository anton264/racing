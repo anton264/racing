{
 "cells": [
  {
   "cell_type": "markdown",
   "metadata": {},
   "source": [
    "# Extracting track sections from coordinates\n",
    "\n",
    "We want to split a race track into sections, based on the coordinates of the track.\n",
    "A track can be considered of a series of corners and straights. \n",
    "A corner can be connected to another corner, or to a straight. \n",
    "See [driver61.com](https://driver61.com/uni/different-corner-technique/) explanation for more details.\n",
    "\n",
    "The track features to be extracted are:\n",
    "* the sequence of corners and straights\n",
    "* the start and end of a sequence in meters on the track\n",
    "  * the start of a corner is when the track starts to curve\n",
    "  * the end of a corner is when the track starts to straighten out\n",
    "* the curvature of a straight. Some straights are not completely straight, but have a slight curve.\n",
    "\n",
    "\n",
    "Let's look at the Nürburgring track:\n",
    "<br/>\n",
    " <img src=\"https://static.wikia.nocookie.net/f1wikia/images/b/b0/Nurburgring2002.png/revision/latest?cb=20130301114136\" style=\"width: 50%;\"/> \n",
    "\n",
    "The sequence would be:\n",
    "1. straight \"Start und Zielgerade\"\n",
    "2. corner \"1\"\n",
    "3. corner \"Mercedes Arena\"\n",
    "4. corner \"3\"\n",
    "5. corner \"4\"\n",
    "6. straight\n",
    "7. corner \"5\"\n",
    "8. corner \"Ford Kurve\"\n",
    "9. straight\n",
    "10. corner \"Dunlop Kehre\"\n",
    "11. straight\n",
    "12. corner \"Michael Schumacher S\"\n",
    "13. corner 9\n",
    "14. straight\n",
    "15. corner \"RTL Kurve\"\n",
    "16. straight\n",
    "17. corner \"Warsteiner Kurve\"\n",
    "18. straight\n",
    "19. corner \"ADVAN Bogen\"\n",
    "20. straight\n",
    "21. corner \"13\"\n",
    "22. corner \"NGK Schikane\"\n",
    "23. corner \"Coca-Cola Kurve\"\n",
    "\n",
    "\n",
    "Notice that a straight, like number 9, which connects \"Ford-Kurve\" and \"Dunlop Kehre\", might not be completely straight, but have a slight curve.\n",
    "\n",
    "\n",
    "## source data\n",
    "\n",
    "The data is stored in an InfluxDB database. It's collected from sim racing games. The game submits the telemetry data at a sample frequency of 60 Hz.\n",
    "The coordinates are in the world coordinate system, which is different depending on the game. The coordinates are not in meters, but in some game specific unit. The coordinates are the position of the car in the world during a lap.\n",
    "The start and end of a lap data is not 100% connected, since the car does not cross the the start and finish line at the very same coordinates.\n",
    "The field `DistanceOnTrack` is the car position in meters on the track. This field will be used to add a length to each track section.\n",
    "\n",
    "## data preparation\n",
    "\n",
    "1. collect coordinates for multiple laps on a given track per game\n",
    "   * since we record data from different cars and different drivers, we want to use many samples to get a statistically significant result.\n",
    "2. map the coordinates to a universal coordinate system, which is the same for all games\n",
    "   * every game uses slightly different units and x,y,z coordinates. To make the next steps universal, we need to normalize the data to a universal coordinate system. The coordinates can differ in scale and projection (like being mirrored)\n",
    "3. remove outliers from laps\n",
    "   * out of all the collected laps, calculate a single, well connected line, that is the best fit to the actual track. Some drivers have a different racing line on the track, or even spin the car during a lap.\n",
    "4. split laps into sections, based on the data of all recorded laps\n",
    "   * the extracted features are:\n",
    "      * the sequence of corners and straights\n",
    "      * every sequences has a start and end in meters\n",
    "      * the end of sequence n is the start of sequence n+1\n"
   ]
  },
  {
   "cell_type": "markdown",
   "metadata": {},
   "source": [
    "# Data exploration\n",
    "\n",
    "The following is a data exploration of the data. It only shows 3 laps from 2 different games for 2 different tracks.\n",
    "The data for the Nürburgring track shows 2 laps with car spins on the track to visualize the need for removing outliers and normalizing the data for a given track.\n",
    "The data for Spa shows, that the coordinate system can be mirrored for a given game.\n",
    "\n",
    "The actual data will be provided as SessionId and LapId combinations, for a set of tracks and games.\n",
    "Per track the number of laps varies from 1 to 15. Total it will be approx 4 games with approx 10 tracks per game.\n"
   ]
  },
  {
   "cell_type": "code",
   "execution_count": 272,
   "metadata": {},
   "outputs": [],
   "source": [
    "import os\n",
    "import pandas as pd\n",
    "import matplotlib.pyplot as plt\n",
    "import seaborn as sns\n",
    "import numpy as np\n",
    "from scipy.interpolate import interp1d\n",
    "from scipy.spatial import ConvexHull\n",
    "\n",
    "import influxdb_client\n",
    "from IPython.display import Image\n",
    "\n",
    "from influxdb_client.client.write_api import SYNCHRONOUS\n",
    "\n",
    "import warnings\n",
    "from influxdb_client.client.warnings import MissingPivotFunction\n",
    "\n",
    "warnings.simplefilter(\"ignore\", MissingPivotFunction)\n",
    "\n",
    "# configure influxdb client\n",
    "ORG = \"b4mad\"\n",
    "TOKEN = os.environ.get(\n",
    "    \"INFLUXDB_TOKEN\",\n",
    "    \"citqAMr66LLb25hvaaZm2LezOc88k2ocOFJcJDR6QB-RmLJa_-sAr9kYB4vSFYaz8bt26lm7SokVgpQKdgKFKA==\",\n",
    ")\n",
    "URL = \"https://telemetry.b4mad.racing/\"\n",
    "\n",
    "client = influxdb_client.InfluxDBClient(url=URL, token=TOKEN, org=ORG)\n",
    "query_api = client.query_api()\n",
    "pd.set_option(\"display.max_columns\", None)"
   ]
  },
  {
   "cell_type": "code",
   "execution_count": 273,
   "metadata": {},
   "outputs": [],
   "source": [
    "# a function to query the database for a given session and lap\n",
    "def query_session_lap(session, lap):\n",
    "    query = f\"\"\"\n",
    "    from(bucket: \"racing\")\n",
    "    |> range(start: -10y, stop: now())\n",
    "    |> filter(fn: (r) => r[\"_measurement\"] == \"laps_cc\")\n",
    "    |> filter(fn: (r) => r[\"SessionId\"] == \"{session}\")\n",
    "    |> pivot(rowKey: [\"_time\"], columnKey: [\"_field\"], valueColumn: \"_value\")\n",
    "    |> filter(fn: (r) => r[\"CurrentLap\"] == \"{lap}\")\n",
    "    |> sort(columns: [\"_time\"], desc: false)\n",
    "    \"\"\"\n",
    "    return query_api.query_data_frame(org=ORG, query=query)"
   ]
  },
  {
   "cell_type": "code",
   "execution_count": 274,
   "metadata": {},
   "outputs": [],
   "source": [
    "tracks = {\n",
    "    \"Nurburgring_2020:Nurb_GP_2020_Veedol-1\": {\n",
    "        \"game\": \"Automobilista 2\",\n",
    "        \"session\": 1670584820,\n",
    "        \"lap\": 1,\n",
    "        \"image\": \"https://static.wikia.nocookie.net/f1wikia/images/b/b0/Nurburgring2002.png/revision/latest?cb=20130301114136\",\n",
    "    },\n",
    "    \"Nurburgring_2020:Nurb_GP_2020_Veedol-2\": {\n",
    "        \"game\": \"Automobilista 2\",\n",
    "        \"session\": 1670584820,\n",
    "        \"lap\": 2,\n",
    "        \"image\": \"https://static.wikia.nocookie.net/f1wikia/images/b/b0/Nurburgring2002.png/revision/latest?cb=20130301114136\",\n",
    "    },\n",
    "    \"Nurburgring_2020:Nurb_GP_2020_Veedol-3\": {\n",
    "        \"game\": \"Automobilista 2\",\n",
    "        \"session\": 1670584820,\n",
    "        \"lap\": 3,\n",
    "        \"image\": \"https://static.wikia.nocookie.net/f1wikia/images/b/b0/Nurburgring2002.png/revision/latest?cb=20130301114136\",\n",
    "    },\n",
    "    \"Spa:track config\": {\n",
    "        \"game\": \"Assetto Corsa Competizione\",\n",
    "        \"session\": 1670586823,\n",
    "        \"lap\": 8,\n",
    "        \"image\": \"https://static.wikia.nocookie.net/f1wikia/images/3/3f/Track_map_of_Spa-Francorchamps_in_Belgium.svg/revision/latest/scale-to-width-down/1000?cb=20120730120932\",\n",
    "    },\n",
    "}\n",
    "\n",
    "for track, data in tracks.items():\n",
    "    tracks[track][\"df\"] = query_session_lap(data[\"session\"], data[\"lap\"])"
   ]
  },
  {
   "cell_type": "code",
   "execution_count": 275,
   "metadata": {},
   "outputs": [
    {
     "data": {
      "text/plain": [
       "'Nurburgring_2020:Nurb_GP_2020_Veedol-1'"
      ]
     },
     "metadata": {},
     "output_type": "display_data"
    },
    {
     "data": {
      "image/png": "[encoded data removed]",
      "text/plain": [
       "<Figure size 432x288 with 1 Axes>"
      ]
     },
     "metadata": {
      "needs_background": "light"
     },
     "output_type": "display_data"
    },
    {
     "data": {
      "text/html": [
       "<img src=\"https://static.wikia.nocookie.net/f1wikia/images/b/b0/Nurburgring2002.png/revision/latest?cb=20130301114136\" width=\"800\" class=\"unconfined\"/>"
      ],
      "text/plain": [
       "<IPython.core.display.Image object>"
      ]
     },
     "metadata": {},
     "output_type": "display_data"
    },
    {
     "data": {
      "text/html": [
       "<div>\n",
       "<style scoped>\n",
       "    .dataframe tbody tr th:only-of-type {\n",
       "        vertical-align: middle;\n",
       "    }\n",
       "\n",
       "    .dataframe tbody tr th {\n",
       "        vertical-align: top;\n",
       "    }\n",
       "\n",
       "    .dataframe thead th {\n",
       "        text-align: right;\n",
       "    }\n",
       "</style>\n",
       "<table border=\"1\" class=\"dataframe\">\n",
       "  <thead>\n",
       "    <tr style=\"text-align: right;\">\n",
       "      <th></th>\n",
       "      <th>result</th>\n",
       "      <th>table</th>\n",
       "      <th>_start</th>\n",
       "      <th>_stop</th>\n",
       "      <th>_time</th>\n",
       "      <th>CarModel</th>\n",
       "      <th>CurrentLap</th>\n",
       "      <th>GameName</th>\n",
       "      <th>SessionId</th>\n",
       "      <th>SessionTypeName</th>\n",
       "      <th>TrackCode</th>\n",
       "      <th>_measurement</th>\n",
       "      <th>host</th>\n",
       "      <th>topic</th>\n",
       "      <th>user</th>\n",
       "      <th>Brake</th>\n",
       "      <th>Clutch</th>\n",
       "      <th>CurrentLapIsValid</th>\n",
       "      <th>CurrentLapTime</th>\n",
       "      <th>DistanceRoundTrack</th>\n",
       "      <th>Gear</th>\n",
       "      <th>Handbrake</th>\n",
       "      <th>LapTimePrevious</th>\n",
       "      <th>PreviousLapWasValid</th>\n",
       "      <th>Rpms</th>\n",
       "      <th>SpeedMs</th>\n",
       "      <th>SteeringAngle</th>\n",
       "      <th>Throttle</th>\n",
       "      <th>WorldPosition_x</th>\n",
       "      <th>WorldPosition_y</th>\n",
       "      <th>WorldPosition_z</th>\n",
       "    </tr>\n",
       "  </thead>\n",
       "  <tbody>\n",
       "    <tr>\n",
       "      <th>0</th>\n",
       "      <td>_result</td>\n",
       "      <td>0</td>\n",
       "      <td>2012-12-16 05:49:07.125315+00:00</td>\n",
       "      <td>2022-12-16 17:49:07.125315+00:00</td>\n",
       "      <td>2022-12-09 12:20:20.626369+00:00</td>\n",
       "      <td>Porsche 911 RSR GTE</td>\n",
       "      <td>1</td>\n",
       "      <td>Automobilista 2</td>\n",
       "      <td>1670584820</td>\n",
       "      <td>Practice</td>\n",
       "      <td>Nurburgring_2020:Nurb_GP_2020_Veedol</td>\n",
       "      <td>laps_cc</td>\n",
       "      <td>telegraf</td>\n",
       "      <td>crewchief/goern/1670584820/Automobilista 2/Nur...</td>\n",
       "      <td>goern</td>\n",
       "      <td>1.0</td>\n",
       "      <td>0.0</td>\n",
       "      <td>False</td>\n",
       "      <td>-3.000000</td>\n",
       "      <td>0.000</td>\n",
       "      <td>0.0</td>\n",
       "      <td>0.0</td>\n",
       "      <td>-1.0</td>\n",
       "      <td>True</td>\n",
       "      <td>0.000</td>\n",
       "      <td>0.00000</td>\n",
       "      <td>0.000000</td>\n",
       "      <td>0.0</td>\n",
       "      <td>235.758377</td>\n",
       "      <td>-6.537385</td>\n",
       "      <td>290.169400</td>\n",
       "    </tr>\n",
       "    <tr>\n",
       "      <th>3045</th>\n",
       "      <td>_result</td>\n",
       "      <td>0</td>\n",
       "      <td>2012-12-16 05:49:07.125315+00:00</td>\n",
       "      <td>2022-12-16 17:49:07.125315+00:00</td>\n",
       "      <td>2022-12-09 12:25:28.085268+00:00</td>\n",
       "      <td>Porsche 911 RSR GTE</td>\n",
       "      <td>1</td>\n",
       "      <td>Automobilista 2</td>\n",
       "      <td>1670584820</td>\n",
       "      <td>Practice</td>\n",
       "      <td>Nurburgring_2020:Nurb_GP_2020_Veedol</td>\n",
       "      <td>laps_cc</td>\n",
       "      <td>telegraf</td>\n",
       "      <td>crewchief/goern/1670584820/Automobilista 2/Nur...</td>\n",
       "      <td>goern</td>\n",
       "      <td>0.0</td>\n",
       "      <td>0.0</td>\n",
       "      <td>True</td>\n",
       "      <td>138.926086</td>\n",
       "      <td>5123.455</td>\n",
       "      <td>5.0</td>\n",
       "      <td>0.0</td>\n",
       "      <td>-1.0</td>\n",
       "      <td>False</td>\n",
       "      <td>8127.544</td>\n",
       "      <td>62.82423</td>\n",
       "      <td>0.000763</td>\n",
       "      <td>1.0</td>\n",
       "      <td>129.348300</td>\n",
       "      <td>-7.737313</td>\n",
       "      <td>131.231552</td>\n",
       "    </tr>\n",
       "  </tbody>\n",
       "</table>\n",
       "</div>"
      ],
      "text/plain": [
       "       result  table                           _start  \\\n",
       "0     _result      0 2012-12-16 05:49:07.125315+00:00   \n",
       "3045  _result      0 2012-12-16 05:49:07.125315+00:00   \n",
       "\n",
       "                                _stop                            _time  \\\n",
       "0    2022-12-16 17:49:07.125315+00:00 2022-12-09 12:20:20.626369+00:00   \n",
       "3045 2022-12-16 17:49:07.125315+00:00 2022-12-09 12:25:28.085268+00:00   \n",
       "\n",
       "                 CarModel CurrentLap         GameName   SessionId  \\\n",
       "0     Porsche 911 RSR GTE          1  Automobilista 2  1670584820   \n",
       "3045  Porsche 911 RSR GTE          1  Automobilista 2  1670584820   \n",
       "\n",
       "     SessionTypeName                             TrackCode _measurement  \\\n",
       "0           Practice  Nurburgring_2020:Nurb_GP_2020_Veedol      laps_cc   \n",
       "3045        Practice  Nurburgring_2020:Nurb_GP_2020_Veedol      laps_cc   \n",
       "\n",
       "          host                                              topic   user  \\\n",
       "0     telegraf  crewchief/goern/1670584820/Automobilista 2/Nur...  goern   \n",
       "3045  telegraf  crewchief/goern/1670584820/Automobilista 2/Nur...  goern   \n",
       "\n",
       "      Brake  Clutch  CurrentLapIsValid  CurrentLapTime  DistanceRoundTrack  \\\n",
       "0       1.0     0.0              False       -3.000000               0.000   \n",
       "3045    0.0     0.0               True      138.926086            5123.455   \n",
       "\n",
       "      Gear  Handbrake  LapTimePrevious  PreviousLapWasValid      Rpms  \\\n",
       "0      0.0        0.0             -1.0                 True     0.000   \n",
       "3045   5.0        0.0             -1.0                False  8127.544   \n",
       "\n",
       "       SpeedMs  SteeringAngle  Throttle  WorldPosition_x  WorldPosition_y  \\\n",
       "0      0.00000       0.000000       0.0       235.758377        -6.537385   \n",
       "3045  62.82423       0.000763       1.0       129.348300        -7.737313   \n",
       "\n",
       "      WorldPosition_z  \n",
       "0          290.169400  \n",
       "3045       131.231552  "
      ]
     },
     "metadata": {},
     "output_type": "display_data"
    },
    {
     "data": {
      "text/plain": [
       "'Nurburgring_2020:Nurb_GP_2020_Veedol-2'"
      ]
     },
     "metadata": {},
     "output_type": "display_data"
    },
    {
     "data": {
      "image/png": "[encoded data removed]",
      "text/plain": [
       "<Figure size 432x288 with 1 Axes>"
      ]
     },
     "metadata": {
      "needs_background": "light"
     },
     "output_type": "display_data"
    },
    {
     "data": {
      "text/html": [
       "<img src=\"https://static.wikia.nocookie.net/f1wikia/images/b/b0/Nurburgring2002.png/revision/latest?cb=20130301114136\" width=\"800\" class=\"unconfined\"/>"
      ],
      "text/plain": [
       "<IPython.core.display.Image object>"
      ]
     },
     "metadata": {},
     "output_type": "display_data"
    },
    {
     "data": {
      "text/html": [
       "<div>\n",
       "<style scoped>\n",
       "    .dataframe tbody tr th:only-of-type {\n",
       "        vertical-align: middle;\n",
       "    }\n",
       "\n",
       "    .dataframe tbody tr th {\n",
       "        vertical-align: top;\n",
       "    }\n",
       "\n",
       "    .dataframe thead th {\n",
       "        text-align: right;\n",
       "    }\n",
       "</style>\n",
       "<table border=\"1\" class=\"dataframe\">\n",
       "  <thead>\n",
       "    <tr style=\"text-align: right;\">\n",
       "      <th></th>\n",
       "      <th>result</th>\n",
       "      <th>table</th>\n",
       "      <th>_start</th>\n",
       "      <th>_stop</th>\n",
       "      <th>_time</th>\n",
       "      <th>CarModel</th>\n",
       "      <th>CurrentLap</th>\n",
       "      <th>GameName</th>\n",
       "      <th>SessionId</th>\n",
       "      <th>SessionTypeName</th>\n",
       "      <th>TrackCode</th>\n",
       "      <th>_measurement</th>\n",
       "      <th>host</th>\n",
       "      <th>topic</th>\n",
       "      <th>user</th>\n",
       "      <th>Brake</th>\n",
       "      <th>Clutch</th>\n",
       "      <th>CurrentLapIsValid</th>\n",
       "      <th>CurrentLapTime</th>\n",
       "      <th>DistanceRoundTrack</th>\n",
       "      <th>Gear</th>\n",
       "      <th>Handbrake</th>\n",
       "      <th>LapTimePrevious</th>\n",
       "      <th>PreviousLapWasValid</th>\n",
       "      <th>Rpms</th>\n",
       "      <th>SpeedMs</th>\n",
       "      <th>SteeringAngle</th>\n",
       "      <th>Throttle</th>\n",
       "      <th>WorldPosition_x</th>\n",
       "      <th>WorldPosition_y</th>\n",
       "      <th>WorldPosition_z</th>\n",
       "    </tr>\n",
       "  </thead>\n",
       "  <tbody>\n",
       "    <tr>\n",
       "      <th>0</th>\n",
       "      <td>_result</td>\n",
       "      <td>0</td>\n",
       "      <td>2012-12-16 05:49:11.323016+00:00</td>\n",
       "      <td>2022-12-16 17:49:11.323016+00:00</td>\n",
       "      <td>2022-12-09 12:25:28.196479+00:00</td>\n",
       "      <td>Porsche 911 RSR GTE</td>\n",
       "      <td>2</td>\n",
       "      <td>Automobilista 2</td>\n",
       "      <td>1670584820</td>\n",
       "      <td>Practice</td>\n",
       "      <td>Nurburgring_2020:Nurb_GP_2020_Veedol</td>\n",
       "      <td>laps_cc</td>\n",
       "      <td>telegraf</td>\n",
       "      <td>crewchief/goern/1670584820/Automobilista 2/Nur...</td>\n",
       "      <td>goern</td>\n",
       "      <td>0.0</td>\n",
       "      <td>0.0</td>\n",
       "      <td>True</td>\n",
       "      <td>98.339294</td>\n",
       "      <td>4.459284</td>\n",
       "      <td>5.0</td>\n",
       "      <td>0.0</td>\n",
       "      <td>140.66626</td>\n",
       "      <td>True</td>\n",
       "      <td>8151.83057</td>\n",
       "      <td>63.058765</td>\n",
       "      <td>0.000611</td>\n",
       "      <td>1.0</td>\n",
       "      <td>125.050995</td>\n",
       "      <td>-7.807137</td>\n",
       "      <td>126.633125</td>\n",
       "    </tr>\n",
       "    <tr>\n",
       "      <th>1217</th>\n",
       "      <td>_result</td>\n",
       "      <td>0</td>\n",
       "      <td>2012-12-16 05:49:11.323016+00:00</td>\n",
       "      <td>2022-12-16 17:49:11.323016+00:00</td>\n",
       "      <td>2022-12-09 12:27:31.084774+00:00</td>\n",
       "      <td>Porsche 911 RSR GTE</td>\n",
       "      <td>2</td>\n",
       "      <td>Automobilista 2</td>\n",
       "      <td>1670584820</td>\n",
       "      <td>Practice</td>\n",
       "      <td>Nurburgring_2020:Nurb_GP_2020_Veedol</td>\n",
       "      <td>laps_cc</td>\n",
       "      <td>telegraf</td>\n",
       "      <td>crewchief/goern/1670584820/Automobilista 2/Nur...</td>\n",
       "      <td>goern</td>\n",
       "      <td>0.0</td>\n",
       "      <td>0.0</td>\n",
       "      <td>True</td>\n",
       "      <td>103.855469</td>\n",
       "      <td>5123.926000</td>\n",
       "      <td>5.0</td>\n",
       "      <td>0.0</td>\n",
       "      <td>140.66626</td>\n",
       "      <td>True</td>\n",
       "      <td>8420.78100</td>\n",
       "      <td>65.099970</td>\n",
       "      <td>0.000305</td>\n",
       "      <td>1.0</td>\n",
       "      <td>130.214264</td>\n",
       "      <td>-7.705030</td>\n",
       "      <td>129.749466</td>\n",
       "    </tr>\n",
       "  </tbody>\n",
       "</table>\n",
       "</div>"
      ],
      "text/plain": [
       "       result  table                           _start  \\\n",
       "0     _result      0 2012-12-16 05:49:11.323016+00:00   \n",
       "1217  _result      0 2012-12-16 05:49:11.323016+00:00   \n",
       "\n",
       "                                _stop                            _time  \\\n",
       "0    2022-12-16 17:49:11.323016+00:00 2022-12-09 12:25:28.196479+00:00   \n",
       "1217 2022-12-16 17:49:11.323016+00:00 2022-12-09 12:27:31.084774+00:00   \n",
       "\n",
       "                 CarModel CurrentLap         GameName   SessionId  \\\n",
       "0     Porsche 911 RSR GTE          2  Automobilista 2  1670584820   \n",
       "1217  Porsche 911 RSR GTE          2  Automobilista 2  1670584820   \n",
       "\n",
       "     SessionTypeName                             TrackCode _measurement  \\\n",
       "0           Practice  Nurburgring_2020:Nurb_GP_2020_Veedol      laps_cc   \n",
       "1217        Practice  Nurburgring_2020:Nurb_GP_2020_Veedol      laps_cc   \n",
       "\n",
       "          host                                              topic   user  \\\n",
       "0     telegraf  crewchief/goern/1670584820/Automobilista 2/Nur...  goern   \n",
       "1217  telegraf  crewchief/goern/1670584820/Automobilista 2/Nur...  goern   \n",
       "\n",
       "      Brake  Clutch  CurrentLapIsValid  CurrentLapTime  DistanceRoundTrack  \\\n",
       "0       0.0     0.0               True       98.339294            4.459284   \n",
       "1217    0.0     0.0               True      103.855469         5123.926000   \n",
       "\n",
       "      Gear  Handbrake  LapTimePrevious  PreviousLapWasValid        Rpms  \\\n",
       "0      5.0        0.0        140.66626                 True  8151.83057   \n",
       "1217   5.0        0.0        140.66626                 True  8420.78100   \n",
       "\n",
       "        SpeedMs  SteeringAngle  Throttle  WorldPosition_x  WorldPosition_y  \\\n",
       "0     63.058765       0.000611       1.0       125.050995        -7.807137   \n",
       "1217  65.099970       0.000305       1.0       130.214264        -7.705030   \n",
       "\n",
       "      WorldPosition_z  \n",
       "0          126.633125  \n",
       "1217       129.749466  "
      ]
     },
     "metadata": {},
     "output_type": "display_data"
    },
    {
     "data": {
      "text/plain": [
       "'Nurburgring_2020:Nurb_GP_2020_Veedol-3'"
      ]
     },
     "metadata": {},
     "output_type": "display_data"
    },
    {
     "data": {
      "image/png": "[encoded data removed]",
      "text/plain": [
       "<Figure size 432x288 with 1 Axes>"
      ]
     },
     "metadata": {
      "needs_background": "light"
     },
     "output_type": "display_data"
    },
    {
     "data": {
      "text/html": [
       "<img src=\"https://static.wikia.nocookie.net/f1wikia/images/b/b0/Nurburgring2002.png/revision/latest?cb=20130301114136\" width=\"800\" class=\"unconfined\"/>"
      ],
      "text/plain": [
       "<IPython.core.display.Image object>"
      ]
     },
     "metadata": {},
     "output_type": "display_data"
    },
    {
     "data": {
      "text/html": [
       "<div>\n",
       "<style scoped>\n",
       "    .dataframe tbody tr th:only-of-type {\n",
       "        vertical-align: middle;\n",
       "    }\n",
       "\n",
       "    .dataframe tbody tr th {\n",
       "        vertical-align: top;\n",
       "    }\n",
       "\n",
       "    .dataframe thead th {\n",
       "        text-align: right;\n",
       "    }\n",
       "</style>\n",
       "<table border=\"1\" class=\"dataframe\">\n",
       "  <thead>\n",
       "    <tr style=\"text-align: right;\">\n",
       "      <th></th>\n",
       "      <th>result</th>\n",
       "      <th>table</th>\n",
       "      <th>_start</th>\n",
       "      <th>_stop</th>\n",
       "      <th>_time</th>\n",
       "      <th>CarModel</th>\n",
       "      <th>CurrentLap</th>\n",
       "      <th>GameName</th>\n",
       "      <th>SessionId</th>\n",
       "      <th>SessionTypeName</th>\n",
       "      <th>TrackCode</th>\n",
       "      <th>_measurement</th>\n",
       "      <th>host</th>\n",
       "      <th>topic</th>\n",
       "      <th>user</th>\n",
       "      <th>Brake</th>\n",
       "      <th>Clutch</th>\n",
       "      <th>CurrentLapIsValid</th>\n",
       "      <th>CurrentLapTime</th>\n",
       "      <th>DistanceRoundTrack</th>\n",
       "      <th>Gear</th>\n",
       "      <th>Handbrake</th>\n",
       "      <th>LapTimePrevious</th>\n",
       "      <th>PreviousLapWasValid</th>\n",
       "      <th>Rpms</th>\n",
       "      <th>SpeedMs</th>\n",
       "      <th>SteeringAngle</th>\n",
       "      <th>Throttle</th>\n",
       "      <th>WorldPosition_x</th>\n",
       "      <th>WorldPosition_y</th>\n",
       "      <th>WorldPosition_z</th>\n",
       "    </tr>\n",
       "  </thead>\n",
       "  <tbody>\n",
       "    <tr>\n",
       "      <th>0</th>\n",
       "      <td>_result</td>\n",
       "      <td>0</td>\n",
       "      <td>2012-12-16 05:49:13.626746+00:00</td>\n",
       "      <td>2022-12-16 17:49:13.626746+00:00</td>\n",
       "      <td>2022-12-09 12:27:31.193622+00:00</td>\n",
       "      <td>Porsche 911 RSR GTE</td>\n",
       "      <td>3</td>\n",
       "      <td>Automobilista 2</td>\n",
       "      <td>1670584820</td>\n",
       "      <td>Practice</td>\n",
       "      <td>Nurburgring_2020:Nurb_GP_2020_Veedol</td>\n",
       "      <td>laps_cc</td>\n",
       "      <td>telegraf</td>\n",
       "      <td>crewchief/goern/1670584820/Automobilista 2/Nur...</td>\n",
       "      <td>goern</td>\n",
       "      <td>0.0</td>\n",
       "      <td>0.0</td>\n",
       "      <td>True</td>\n",
       "      <td>62.794130</td>\n",
       "      <td>6.14080</td>\n",
       "      <td>5.0</td>\n",
       "      <td>0.0</td>\n",
       "      <td>122.977844</td>\n",
       "      <td>True</td>\n",
       "      <td>8443.941</td>\n",
       "      <td>65.342804</td>\n",
       "      <td>0.000000</td>\n",
       "      <td>1.0</td>\n",
       "      <td>125.009926</td>\n",
       "      <td>-7.795475</td>\n",
       "      <td>124.348717</td>\n",
       "    </tr>\n",
       "    <tr>\n",
       "      <th>1358</th>\n",
       "      <td>_result</td>\n",
       "      <td>0</td>\n",
       "      <td>2012-12-16 05:49:13.626746+00:00</td>\n",
       "      <td>2022-12-16 17:49:13.626746+00:00</td>\n",
       "      <td>2022-12-09 12:29:48.316888+00:00</td>\n",
       "      <td>Porsche 911 RSR GTE</td>\n",
       "      <td>3</td>\n",
       "      <td>Automobilista 2</td>\n",
       "      <td>1670584820</td>\n",
       "      <td>Practice</td>\n",
       "      <td>Nurburgring_2020:Nurb_GP_2020_Veedol</td>\n",
       "      <td>laps_cc</td>\n",
       "      <td>telegraf</td>\n",
       "      <td>crewchief/goern/1670584820/Automobilista 2/Nur...</td>\n",
       "      <td>goern</td>\n",
       "      <td>0.0</td>\n",
       "      <td>0.0</td>\n",
       "      <td>True</td>\n",
       "      <td>97.201904</td>\n",
       "      <td>5123.20068</td>\n",
       "      <td>5.0</td>\n",
       "      <td>0.0</td>\n",
       "      <td>122.977844</td>\n",
       "      <td>True</td>\n",
       "      <td>8457.679</td>\n",
       "      <td>65.405280</td>\n",
       "      <td>-0.000153</td>\n",
       "      <td>1.0</td>\n",
       "      <td>130.531418</td>\n",
       "      <td>-7.702488</td>\n",
       "      <td>130.450226</td>\n",
       "    </tr>\n",
       "  </tbody>\n",
       "</table>\n",
       "</div>"
      ],
      "text/plain": [
       "       result  table                           _start  \\\n",
       "0     _result      0 2012-12-16 05:49:13.626746+00:00   \n",
       "1358  _result      0 2012-12-16 05:49:13.626746+00:00   \n",
       "\n",
       "                                _stop                            _time  \\\n",
       "0    2022-12-16 17:49:13.626746+00:00 2022-12-09 12:27:31.193622+00:00   \n",
       "1358 2022-12-16 17:49:13.626746+00:00 2022-12-09 12:29:48.316888+00:00   \n",
       "\n",
       "                 CarModel CurrentLap         GameName   SessionId  \\\n",
       "0     Porsche 911 RSR GTE          3  Automobilista 2  1670584820   \n",
       "1358  Porsche 911 RSR GTE          3  Automobilista 2  1670584820   \n",
       "\n",
       "     SessionTypeName                             TrackCode _measurement  \\\n",
       "0           Practice  Nurburgring_2020:Nurb_GP_2020_Veedol      laps_cc   \n",
       "1358        Practice  Nurburgring_2020:Nurb_GP_2020_Veedol      laps_cc   \n",
       "\n",
       "          host                                              topic   user  \\\n",
       "0     telegraf  crewchief/goern/1670584820/Automobilista 2/Nur...  goern   \n",
       "1358  telegraf  crewchief/goern/1670584820/Automobilista 2/Nur...  goern   \n",
       "\n",
       "      Brake  Clutch  CurrentLapIsValid  CurrentLapTime  DistanceRoundTrack  \\\n",
       "0       0.0     0.0               True       62.794130             6.14080   \n",
       "1358    0.0     0.0               True       97.201904          5123.20068   \n",
       "\n",
       "      Gear  Handbrake  LapTimePrevious  PreviousLapWasValid      Rpms  \\\n",
       "0      5.0        0.0       122.977844                 True  8443.941   \n",
       "1358   5.0        0.0       122.977844                 True  8457.679   \n",
       "\n",
       "        SpeedMs  SteeringAngle  Throttle  WorldPosition_x  WorldPosition_y  \\\n",
       "0     65.342804       0.000000       1.0       125.009926        -7.795475   \n",
       "1358  65.405280      -0.000153       1.0       130.531418        -7.702488   \n",
       "\n",
       "      WorldPosition_z  \n",
       "0          124.348717  \n",
       "1358       130.450226  "
      ]
     },
     "metadata": {},
     "output_type": "display_data"
    },
    {
     "data": {
      "text/plain": [
       "'Spa:track config'"
      ]
     },
     "metadata": {},
     "output_type": "display_data"
    },
    {
     "data": {
      "image/png": "[encoded data removed]",
      "text/plain": [
       "<Figure size 432x288 with 1 Axes>"
      ]
     },
     "metadata": {
      "needs_background": "light"
     },
     "output_type": "display_data"
    },
    {
     "data": {
      "text/html": [
       "<img src=\"https://static.wikia.nocookie.net/f1wikia/images/3/3f/Track_map_of_Spa-Francorchamps_in_Belgium.svg/revision/latest/scale-to-width-down/1000?cb=20120730120932\" width=\"800\" class=\"unconfined\"/>"
      ],
      "text/plain": [
       "<IPython.core.display.Image object>"
      ]
     },
     "metadata": {},
     "output_type": "display_data"
    },
    {
     "data": {
      "text/html": [
       "<div>\n",
       "<style scoped>\n",
       "    .dataframe tbody tr th:only-of-type {\n",
       "        vertical-align: middle;\n",
       "    }\n",
       "\n",
       "    .dataframe tbody tr th {\n",
       "        vertical-align: top;\n",
       "    }\n",
       "\n",
       "    .dataframe thead th {\n",
       "        text-align: right;\n",
       "    }\n",
       "</style>\n",
       "<table border=\"1\" class=\"dataframe\">\n",
       "  <thead>\n",
       "    <tr style=\"text-align: right;\">\n",
       "      <th></th>\n",
       "      <th>result</th>\n",
       "      <th>table</th>\n",
       "      <th>_start</th>\n",
       "      <th>_stop</th>\n",
       "      <th>_time</th>\n",
       "      <th>CarModel</th>\n",
       "      <th>CurrentLap</th>\n",
       "      <th>GameName</th>\n",
       "      <th>SessionId</th>\n",
       "      <th>SessionTypeName</th>\n",
       "      <th>TrackCode</th>\n",
       "      <th>_measurement</th>\n",
       "      <th>host</th>\n",
       "      <th>topic</th>\n",
       "      <th>user</th>\n",
       "      <th>Brake</th>\n",
       "      <th>Clutch</th>\n",
       "      <th>CurrentLapTime</th>\n",
       "      <th>DistanceRoundTrack</th>\n",
       "      <th>Gear</th>\n",
       "      <th>Handbrake</th>\n",
       "      <th>Rpms</th>\n",
       "      <th>SpeedMs</th>\n",
       "      <th>SteeringAngle</th>\n",
       "      <th>Throttle</th>\n",
       "      <th>WorldPosition_x</th>\n",
       "      <th>WorldPosition_y</th>\n",
       "      <th>WorldPosition_z</th>\n",
       "    </tr>\n",
       "  </thead>\n",
       "  <tbody>\n",
       "    <tr>\n",
       "      <th>0</th>\n",
       "      <td>_result</td>\n",
       "      <td>0</td>\n",
       "      <td>2012-12-16 05:49:15.990271+00:00</td>\n",
       "      <td>2022-12-16 17:49:15.990271+00:00</td>\n",
       "      <td>2022-12-09 13:10:01.655171+00:00</td>\n",
       "      <td>Unknown</td>\n",
       "      <td>8</td>\n",
       "      <td>Assetto Corsa Competizione</td>\n",
       "      <td>1670586823</td>\n",
       "      <td>Race</td>\n",
       "      <td>Spa:track config</td>\n",
       "      <td>laps_cc</td>\n",
       "      <td>telegraf</td>\n",
       "      <td>crewchief/Jim/1670586823/Assetto Corsa Competi...</td>\n",
       "      <td>Jim</td>\n",
       "      <td>0.0</td>\n",
       "      <td>1.0</td>\n",
       "      <td>0.797</td>\n",
       "      <td>6.324125</td>\n",
       "      <td>4.0</td>\n",
       "      <td>0.0</td>\n",
       "      <td>5678.0</td>\n",
       "      <td>48.082325</td>\n",
       "      <td>0.0</td>\n",
       "      <td>1.0</td>\n",
       "      <td>-1082.61400</td>\n",
       "      <td>0.0</td>\n",
       "      <td>1903.51800</td>\n",
       "    </tr>\n",
       "    <tr>\n",
       "      <th>1274</th>\n",
       "      <td>_result</td>\n",
       "      <td>0</td>\n",
       "      <td>2012-12-16 05:49:15.990271+00:00</td>\n",
       "      <td>2022-12-16 17:49:15.990271+00:00</td>\n",
       "      <td>2022-12-09 13:12:21.624334+00:00</td>\n",
       "      <td>Unknown</td>\n",
       "      <td>8</td>\n",
       "      <td>Assetto Corsa Competizione</td>\n",
       "      <td>1670586823</td>\n",
       "      <td>Race</td>\n",
       "      <td>Spa:track config</td>\n",
       "      <td>laps_cc</td>\n",
       "      <td>telegraf</td>\n",
       "      <td>crewchief/Jim/1670586823/Assetto Corsa Competi...</td>\n",
       "      <td>Jim</td>\n",
       "      <td>0.0</td>\n",
       "      <td>1.0</td>\n",
       "      <td>0.520</td>\n",
       "      <td>7001.245610</td>\n",
       "      <td>4.0</td>\n",
       "      <td>0.0</td>\n",
       "      <td>5610.0</td>\n",
       "      <td>47.448100</td>\n",
       "      <td>0.0</td>\n",
       "      <td>1.0</td>\n",
       "      <td>-1078.21667</td>\n",
       "      <td>0.0</td>\n",
       "      <td>1895.76257</td>\n",
       "    </tr>\n",
       "  </tbody>\n",
       "</table>\n",
       "</div>"
      ],
      "text/plain": [
       "       result  table                           _start  \\\n",
       "0     _result      0 2012-12-16 05:49:15.990271+00:00   \n",
       "1274  _result      0 2012-12-16 05:49:15.990271+00:00   \n",
       "\n",
       "                                _stop                            _time  \\\n",
       "0    2022-12-16 17:49:15.990271+00:00 2022-12-09 13:10:01.655171+00:00   \n",
       "1274 2022-12-16 17:49:15.990271+00:00 2022-12-09 13:12:21.624334+00:00   \n",
       "\n",
       "     CarModel CurrentLap                    GameName   SessionId  \\\n",
       "0     Unknown          8  Assetto Corsa Competizione  1670586823   \n",
       "1274  Unknown          8  Assetto Corsa Competizione  1670586823   \n",
       "\n",
       "     SessionTypeName         TrackCode _measurement      host  \\\n",
       "0               Race  Spa:track config      laps_cc  telegraf   \n",
       "1274            Race  Spa:track config      laps_cc  telegraf   \n",
       "\n",
       "                                                  topic user  Brake  Clutch  \\\n",
       "0     crewchief/Jim/1670586823/Assetto Corsa Competi...  Jim    0.0     1.0   \n",
       "1274  crewchief/Jim/1670586823/Assetto Corsa Competi...  Jim    0.0     1.0   \n",
       "\n",
       "      CurrentLapTime  DistanceRoundTrack  Gear  Handbrake    Rpms    SpeedMs  \\\n",
       "0              0.797            6.324125   4.0        0.0  5678.0  48.082325   \n",
       "1274           0.520         7001.245610   4.0        0.0  5610.0  47.448100   \n",
       "\n",
       "      SteeringAngle  Throttle  WorldPosition_x  WorldPosition_y  \\\n",
       "0               0.0       1.0      -1082.61400              0.0   \n",
       "1274            0.0       1.0      -1078.21667              0.0   \n",
       "\n",
       "      WorldPosition_z  \n",
       "0          1903.51800  \n",
       "1274       1895.76257  "
      ]
     },
     "metadata": {},
     "output_type": "display_data"
    }
   ],
   "source": [
    "# iterate over all tracks\n",
    "for track, data in tracks.items():\n",
    "    df = data[\"df\"]\n",
    "    display(track)\n",
    "    # scatter plot with a point size of 0.1\n",
    "    if data[\"game\"] == \"Automobilista 2\":\n",
    "        df.plot.scatter(x=\"WorldPosition_x\", y=\"WorldPosition_z\", s=0.1)\n",
    "    if data[\"game\"] == \"Assetto Corsa Competizione\":\n",
    "        # flip y axis\n",
    "        df[\"WorldPosition_z\"] = df[\"WorldPosition_z\"] * -1\n",
    "        df.plot.scatter(x=\"WorldPosition_x\", y=\"WorldPosition_z\", s=0.1)\n",
    "    plt.show()\n",
    "    display(Image(url=data[\"image\"], width=800, unconfined=True))\n",
    "    # display the first and last row of the dataframe\n",
    "    display(pd.concat([df.head(1), df.tail(1)]))"
   ]
  },
  {
   "cell_type": "markdown",
   "metadata": {},
   "source": [
    "## Preprocessing data\n",
    "\n",
    "1. Some dataframes contains multiple laps. These multiple laps need to be split single laps.\n",
    "2. In some laps vehicle goes out the track and driver goes revers. Driving reverse parts can be cleaned from data."
   ]
  },
  {
   "cell_type": "markdown",
   "metadata": {},
   "source": [
    "### 1. Split the laps"
   ]
  },
  {
   "cell_type": "markdown",
   "metadata": {},
   "source": [
    "It can be seen below, a single dataframe passes start point twice"
   ]
  },
  {
   "cell_type": "code",
   "execution_count": 276,
   "metadata": {},
   "outputs": [
    {
     "data": {
      "image/png": "[encoded data removed]",
      "text/plain": [
       "<Figure size 432x288 with 1 Axes>"
      ]
     },
     "metadata": {
      "needs_background": "light"
     },
     "output_type": "display_data"
    }
   ],
   "source": [
    "# Convert df data to numpy arrays\n",
    "df = tracks[\"Nurburgring_2020:Nurb_GP_2020_Veedol-1\"][\"df\"]\n",
    "distances = df[['DistanceRoundTrack']].to_numpy()[:,0]\n",
    "points = df[['WorldPosition_x','WorldPosition_z']].to_numpy()\n",
    "\n",
    "plt.plot(distances)\n",
    "plt.xlabel('Index')\n",
    "plt.ylabel('DistanceRoundTrack')\n",
    "plt.show()"
   ]
  },
  {
   "cell_type": "markdown",
   "metadata": {},
   "source": [
    "When car passes start point, distance drops significantly. This information can be used to split laps"
   ]
  },
  {
   "cell_type": "code",
   "execution_count": 277,
   "metadata": {},
   "outputs": [],
   "source": [
    "# This function split data for multiple laps\n",
    "def split_laps(distances, points, threshold=100):\n",
    "    laps = []\n",
    "    prev_idx = 0\n",
    "    for idx in range(1, distances.shape[0]):\n",
    "        # If DistanceRoundTrack dropped significantly, this is a new lap\n",
    "        passed_start = distances[idx] - distances[idx-1] < -threshold\n",
    "        last_point = (idx == distances.shape[0]-1)\n",
    "        if passed_start or last_point:\n",
    "            lap_distances = distances[prev_idx:idx]\n",
    "            lap_points = points[prev_idx:idx]\n",
    "            lap = {'distances': lap_distances,\n",
    "                   'points': lap_points}\n",
    "            laps.append(lap)\n",
    "            prev_idx = idx\n",
    "    return laps"
   ]
  },
  {
   "cell_type": "code",
   "execution_count": 278,
   "metadata": {},
   "outputs": [],
   "source": [
    "tracks_ = {'track_1': {'laps': []},\n",
    "           'track_2': {'laps': []}}\n",
    "# iterate over all tracks\n",
    "threshold = 100\n",
    "for track, data in tracks.items():\n",
    "    df = data[\"df\"]\n",
    "    # Split data to multiple laps\n",
    "    if data[\"game\"] == \"Automobilista 2\":\n",
    "        distances = df[['DistanceRoundTrack']].to_numpy()[:,0]\n",
    "        points = df[['WorldPosition_x','WorldPosition_z']].to_numpy()\n",
    "        laps = split_laps(distances, points)\n",
    "        tracks_['track_1']['laps'].extend(laps)\n",
    "        \n",
    "    if data[\"game\"] == \"Assetto Corsa Competizione\":\n",
    "        # flip y axis\n",
    "        df[\"WorldPosition_z\"] = df[\"WorldPosition_z\"] * -1\n",
    "        distances = df[['DistanceRoundTrack']].to_numpy()[:,0]\n",
    "        points = df[['WorldPosition_x','WorldPosition_z']].to_numpy()\n",
    "        laps = split_laps(distances, points)\n",
    "        tracks_['track_2']['laps'].extend(laps)\n",
    "\n",
    "tracks = tracks_\n"
   ]
  },
  {
   "cell_type": "code",
   "execution_count": 279,
   "metadata": {},
   "outputs": [
    {
     "data": {
      "image/png": "[encoded data removed]",
      "text/plain": [
       "<Figure size 432x288 with 1 Axes>"
      ]
     },
     "metadata": {
      "needs_background": "light"
     },
     "output_type": "display_data"
    },
    {
     "data": {
      "image/png": "[encoded data removed]",
      "text/plain": [
       "<Figure size 432x288 with 1 Axes>"
      ]
     },
     "metadata": {
      "needs_background": "light"
     },
     "output_type": "display_data"
    }
   ],
   "source": [
    "# Plotting split lap result\n",
    "distances = tracks['track_1']['laps'][0]['distances']\n",
    "points = tracks['track_1']['laps'][0]['points']\n",
    "\n",
    "plt.figure()\n",
    "plt.plot(distances)\n",
    "plt.xlabel('Index')\n",
    "plt.ylabel('DistanceRoundTrack')\n",
    "\n",
    "plt.figure()\n",
    "x = points[:,0]\n",
    "y = points[:,1]\n",
    "plt.scatter(x, y, s=0.1)\n",
    "plt.gca().set_aspect('equal', 'datalim')\n",
    "plt.xlabel('WorldPosition_x')\n",
    "plt.ylabel('WorldPosition_z')\n",
    "plt.show()"
   ]
  },
  {
   "cell_type": "markdown",
   "metadata": {},
   "source": [
    "### 2. Drop telemetry messages where DistanceRoundTrack is not increasing"
   ]
  },
  {
   "cell_type": "markdown",
   "metadata": {},
   "source": [
    "DistanceRoundTrack value is not increasing in following conditions:\n",
    "  * Car is driving reverse\n",
    "  * Car is outside the track"
   ]
  },
  {
   "cell_type": "code",
   "execution_count": 280,
   "metadata": {},
   "outputs": [
    {
     "data": {
      "image/png": "[encoded data removed]",
      "text/plain": [
       "<Figure size 432x288 with 1 Axes>"
      ]
     },
     "metadata": {
      "needs_background": "light"
     },
     "output_type": "display_data"
    },
    {
     "data": {
      "image/png": "[encoded data removed]",
      "text/plain": [
       "<Figure size 432x288 with 1 Axes>"
      ]
     },
     "metadata": {
      "needs_background": "light"
     },
     "output_type": "display_data"
    }
   ],
   "source": [
    "distances = tracks['track_1']['laps'][0]['distances']\n",
    "points = tracks['track_1']['laps'][0]['points']\n",
    "plt.figure()\n",
    "plt.plot(distances)\n",
    "plt.xlabel('Index')\n",
    "plt.ylabel('DistanceRoundTrack')\n",
    "\n",
    "plt.figure()\n",
    "x = points[:,0]\n",
    "y = points[:,1]\n",
    "plt.scatter(x, y, s=0.1)\n",
    "plt.gca().set_aspect('equal', 'datalim')\n",
    "plt.xlabel('WorldPosition_x')\n",
    "plt.ylabel('WorldPosition_z')\n",
    "plt.show()"
   ]
  },
  {
   "cell_type": "markdown",
   "metadata": {},
   "source": [
    "These telemetry message are not need for calculations and they can be dropped."
   ]
  },
  {
   "cell_type": "code",
   "execution_count": 281,
   "metadata": {},
   "outputs": [],
   "source": [
    "# Iterate over the tracks\n",
    "for track_id in tracks.keys():\n",
    "    laps = tracks[track_id]['laps']\n",
    "    # Iterate over the laps\n",
    "    for lap_idx in range(len(laps)):\n",
    "        distances = laps[lap_idx]['distances'].copy()\n",
    "        points = laps[lap_idx]['points'].copy()\n",
    "        max_distance = distances[0]\n",
    "        selected_idx = []\n",
    "        for idx in range(distances.shape[0]):\n",
    "            # If distance is higher than previous distance, select the point\n",
    "            if distances[idx] > max_distance:\n",
    "                selected_idx.append(idx)\n",
    "                max_distance = distances[idx]\n",
    "        # Select distance increasing points\n",
    "        tracks[track_id]['laps'][lap_idx]['distances'] = distances[selected_idx]\n",
    "        tracks[track_id]['laps'][lap_idx]['points'] = points[selected_idx]"
   ]
  },
  {
   "cell_type": "code",
   "execution_count": 282,
   "metadata": {},
   "outputs": [
    {
     "data": {
      "image/png": "[encoded data removed]",
      "text/plain": [
       "<Figure size 432x288 with 1 Axes>"
      ]
     },
     "metadata": {
      "needs_background": "light"
     },
     "output_type": "display_data"
    },
    {
     "data": {
      "image/png": "[encoded data removed]",
      "text/plain": [
       "<Figure size 432x288 with 1 Axes>"
      ]
     },
     "metadata": {
      "needs_background": "light"
     },
     "output_type": "display_data"
    }
   ],
   "source": [
    "distances = tracks['track_1']['laps'][0]['distances']\n",
    "points = tracks['track_1']['laps'][0]['points']\n",
    "\n",
    "plt.figure()\n",
    "plt.plot(distances)\n",
    "plt.xlabel('Index')\n",
    "plt.ylabel('DistanceRoundTrack')\n",
    "\n",
    "plt.figure()\n",
    "x = points[:,0]\n",
    "y = points[:,1]\n",
    "plt.scatter(x, y, s=0.1)\n",
    "plt.gca().set_aspect('equal', 'datalim')\n",
    "plt.xlabel('WorldPosition_x')\n",
    "plt.ylabel('WorldPosition_z')\n",
    "plt.show()"
   ]
  },
  {
   "cell_type": "markdown",
   "metadata": {},
   "source": [
    "### 3. Calculate track length"
   ]
  },
  {
   "cell_type": "markdown",
   "metadata": {},
   "source": [
    "Track lenght is not available in the data. It can be calculated by"
   ]
  },
  {
   "cell_type": "code",
   "execution_count": 283,
   "metadata": {},
   "outputs": [],
   "source": [
    "for track_id in tracks.keys():\n",
    "    laps = tracks[track_id]['laps']\n",
    "    lenght = 0\n",
    "    for lap_idx in range(len(laps)):\n",
    "        max_distance = laps[lap_idx]['distances'].max()\n",
    "        if max_distance > lenght:\n",
    "            lenght = max_distance\n",
    "    tracks[track_id]['length'] = lenght"
   ]
  },
  {
   "cell_type": "code",
   "execution_count": 284,
   "metadata": {},
   "outputs": [
    {
     "name": "stdout",
     "output_type": "stream",
     "text": [
      "track_1 length..: 5123.275\n",
      "track_2 length..: 7001.24561\n"
     ]
    }
   ],
   "source": [
    "for track_id in tracks.keys():\n",
    "    print(track_id, 'length..:', tracks[track_id]['length'])"
   ]
  },
  {
   "cell_type": "markdown",
   "metadata": {},
   "source": [
    "### 4. Resample laps"
   ]
  },
  {
   "cell_type": "markdown",
   "metadata": {},
   "source": [
    "Telemetry data is recorded based on time. When vehicle is driving slow, gets more sample from same position. These position need to be resampled"
   ]
  },
  {
   "cell_type": "code",
   "execution_count": 285,
   "metadata": {},
   "outputs": [],
   "source": [
    "delta_distance = 0.001 * 1863.8057506844502\n",
    "# Iterate over the tracks\n",
    "for track_id in tracks.keys(): \n",
    "    laps = tracks[track_id]['laps']\n",
    "    lenght = tracks[track_id]['length']\n",
    "    # Iterate over the laps \n",
    "    for lap_idx in range(len(laps)):\n",
    "        distances = laps[lap_idx]['distances'].copy()\n",
    "        points = laps[lap_idx]['points'].copy()\n",
    "        resampled_distances = np.arange(0, lenght, delta_distance)\n",
    "        x = points[:,0]\n",
    "        y = points[:,1]\n",
    "        x_n = np.interp(resampled_distances, distances, x, left=np.nan, right=np.nan)\n",
    "        y_n = np.interp(resampled_distances, distances, y, left=np.nan, right=np.nan)  \n",
    "        \n",
    "        tracks[track_id]['laps'][lap_idx]['distances'] = resampled_distances\n",
    "        tracks[track_id]['laps'][lap_idx]['points'] = np.column_stack((x_n, y_n))"
   ]
  },
  {
   "cell_type": "code",
   "execution_count": 286,
   "metadata": {},
   "outputs": [
    {
     "data": {
      "image/png": "[encoded data removed]",
      "text/plain": [
       "<Figure size 432x288 with 1 Axes>"
      ]
     },
     "metadata": {
      "needs_background": "light"
     },
     "output_type": "display_data"
    }
   ],
   "source": [
    "distances = tracks['track_1']['laps'][0]['distances']\n",
    "points = tracks['track_1']['laps'][0]['points']\n",
    "\n",
    "plt.figure()\n",
    "x = points[:,0]\n",
    "y = points[:,1]\n",
    "plt.scatter(x, y, s=0.1)\n",
    "plt.gca().set_aspect('equal', 'datalim')\n",
    "plt.xlabel('WorldPosition_x')\n",
    "plt.ylabel('WorldPosition_z')\n",
    "plt.show()"
   ]
  },
  {
   "cell_type": "markdown",
   "metadata": {},
   "source": [
    "### 5. Fill with nan around outliers"
   ]
  },
  {
   "cell_type": "markdown",
   "metadata": {},
   "source": [
    "Laps have some extream telemetry message. These outliers need to be filled with nan values"
   ]
  },
  {
   "cell_type": "code",
   "execution_count": 287,
   "metadata": {},
   "outputs": [],
   "source": [
    "delta_distance = 0.001 * 1863.8057506844502\n",
    "threshold = 0.4 #[radian]\n",
    "nan_range = 60\n",
    "\n",
    "nan_range_index = nan_range / delta_distance\n",
    "for track_id in tracks.keys(): \n",
    "    laps = tracks[track_id]['laps']\n",
    "    lenght = tracks[track_id]['length']\n",
    "    # Iterate over the laps \n",
    "    for lap_idx in range(len(laps)):\n",
    "        distances = laps[lap_idx]['distances'].copy()\n",
    "        points = laps[lap_idx]['points'].copy()\n",
    "\n",
    "        differences = np.diff(points, axis=0)\n",
    "        yaw_angles = np.arctan2(differences[:,0], differences[:,1])\n",
    "        mask = ~np.isnan(yaw_angles)\n",
    "        yaw_angles[mask] = np.unwrap(yaw_angles[mask])\n",
    "        yaw_changes = np.diff(yaw_angles)\n",
    "        for point_idx in range(points.shape[0]-2):\n",
    "            if abs(yaw_changes[point_idx]) > threshold:\n",
    "                start = int(max(0, point_idx-nan_range_index))\n",
    "                end = int(min(points.shape[0]-1, point_idx+nan_range_index))\n",
    "                points[start:end,:] = np.nan\n",
    "        tracks[track_id]['laps'][lap_idx]['points'] = points\n",
    "\n"
   ]
  },
  {
   "cell_type": "code",
   "execution_count": 293,
   "metadata": {},
   "outputs": [
    {
     "data": {
      "image/png": "[encoded data removed]",
      "text/plain": [
       "<Figure size 432x288 with 1 Axes>"
      ]
     },
     "metadata": {
      "needs_background": "light"
     },
     "output_type": "display_data"
    }
   ],
   "source": [
    "distances = tracks['track_1']['laps'][0]['distances']\n",
    "points = tracks['track_1']['laps'][0]['points']\n",
    "\n",
    "plt.figure()\n",
    "x = points[:,0]\n",
    "y = points[:,1]\n",
    "plt.scatter(x, y, s=0.1)\n",
    "plt.gca().set_aspect('equal', 'datalim')\n",
    "plt.xlabel('WorldPosition_x')\n",
    "plt.ylabel('WorldPosition_z')\n",
    "plt.show()"
   ]
  },
  {
   "cell_type": "markdown",
   "metadata": {},
   "source": [
    "### 6. Calculate track points and yaw change"
   ]
  },
  {
   "cell_type": "code",
   "execution_count": 294,
   "metadata": {},
   "outputs": [
    {
     "ename": "NameError",
     "evalue": "name 'poiiiii' is not defined",
     "output_type": "error",
     "traceback": [
      "\u001b[0;31m---------------------------------------------------------------------------\u001b[0m",
      "\u001b[0;31mNameError\u001b[0m                                 Traceback (most recent call last)",
      "\u001b[0;32m<ipython-input-294-4f17a86677e4>\u001b[0m in \u001b[0;36m<module>\u001b[0;34m\u001b[0m\n\u001b[1;32m     37\u001b[0m \u001b[0;34m\u001b[0m\u001b[0m\n\u001b[1;32m     38\u001b[0m             \u001b[0mpoin\u001b[0m \u001b[0;34m=\u001b[0m \u001b[0mnp\u001b[0m\u001b[0;34m.\u001b[0m\u001b[0marray\u001b[0m\u001b[0;34m(\u001b[0m\u001b[0;34m[\u001b[0m\u001b[0mfx\u001b[0m\u001b[0;34m(\u001b[0m\u001b[0mdist\u001b[0m\u001b[0;34m)\u001b[0m\u001b[0;34m,\u001b[0m \u001b[0mfy\u001b[0m\u001b[0;34m(\u001b[0m\u001b[0mdist\u001b[0m\u001b[0;34m)\u001b[0m\u001b[0;34m]\u001b[0m\u001b[0;34m)\u001b[0m\u001b[0;34m\u001b[0m\u001b[0;34m\u001b[0m\u001b[0m\n\u001b[0;32m---> 39\u001b[0;31m             \u001b[0mpoiiiii\u001b[0m\u001b[0;34m.\u001b[0m\u001b[0mappend\u001b[0m\u001b[0;34m(\u001b[0m\u001b[0mpoin\u001b[0m\u001b[0;34m)\u001b[0m\u001b[0;34m\u001b[0m\u001b[0;34m\u001b[0m\u001b[0m\n\u001b[0m\u001b[1;32m     40\u001b[0m             \u001b[0mddddd\u001b[0m\u001b[0;34m.\u001b[0m\u001b[0mappend\u001b[0m\u001b[0;34m(\u001b[0m\u001b[0mdist\u001b[0m\u001b[0;34m)\u001b[0m\u001b[0;34m\u001b[0m\u001b[0;34m\u001b[0m\u001b[0m\n\u001b[1;32m     41\u001b[0m     \u001b[0mpoiiiii\u001b[0m \u001b[0;34m=\u001b[0m \u001b[0mnp\u001b[0m\u001b[0;34m.\u001b[0m\u001b[0marray\u001b[0m\u001b[0;34m(\u001b[0m\u001b[0mpoiiiii\u001b[0m\u001b[0;34m)\u001b[0m\u001b[0;34m\u001b[0m\u001b[0;34m\u001b[0m\u001b[0m\n",
      "\u001b[0;31mNameError\u001b[0m: name 'poiiiii' is not defined"
     ]
    }
   ],
   "source": [
    "filter_range = 20\n",
    "# Iterate over the tracks\n",
    "for track_id in tracks.keys(): \n",
    "    laps = tracks[track_id]['laps']\n",
    "    lenght = tracks[track_id]['length']\n",
    "    resampled_distances = np.arange(0, lenght, delta_distance)\n",
    "    \n",
    "    distances = []\n",
    "    points = []\n",
    "    yaw_changes = []\n",
    "    for dist in range(resampled_distances.shape[0]):\n",
    "        total_dd = []\n",
    "        total_xx = []\n",
    "        total_yy = []\n",
    "        # Iterate over the laps \n",
    "        for lap_idx in range(len(laps)):\n",
    "            f_distances = np.arange(dist-filter_range, dist+filter_range, delta_distance)\n",
    "            dd = laps[lap_idx]['distances']\n",
    "            xx = laps[lap_idx]['points'][:,0]\n",
    "            yy = laps[lap_idx]['points'][:,1]\n",
    "            x = np.interp(f_distances, dd, xx, left=np.nan, right=np.nan)\n",
    "            y = np.interp(f_distances, dd, yy, left=np.nan, right=np.nan)\n",
    "        \n",
    "        if f_distances[~np.isnan(x)].shape[0] > 0:\n",
    "            total_dd.append(f_distances[~np.isnan(x)])\n",
    "            total_xx.append(x[~np.isnan(x)])\n",
    "            total_yy.append(y[~np.isnan(x)])\n",
    "\n",
    "            total_dd = np.concatenate(total_dd, axis=0)\n",
    "            total_xx = np.concatenate(total_xx, axis=0)\n",
    "            total_yy = np.concatenate(total_yy, axis=0)\n",
    "\n",
    "            px = np.polyfit(total_dd, total_xx, 3)\n",
    "            py = np.polyfit(total_dd, total_yy, 3)\n",
    "            fx = np.poly1d(px)\n",
    "            fy = np.poly1d(py)\n",
    "\n",
    "            poin = np.array([fx(dist), fy(dist)])\n",
    "            poiiiii.append(poin)\n",
    "            ddddd.append(dist)\n",
    "    poiiiii = np.array(poiiiii)\n",
    "    tracks[track_id]['distances'] = np.array(ddddd)[1:]\n",
    "    tracks[track_id]['points'] = np.array(poiiiii)[1:]\n",
    "    differences = np.diff(poiiiii, axis=0)\n",
    "    yaw_angles = np.arctan2(differences[:,0], differences[:,1])\n",
    "    yaw_angles = np.unwrap(yaw_angles)\n",
    "    tracks[track_id]['yaw_angles'] = yaw_angles"
   ]
  },
  {
   "cell_type": "code",
   "execution_count": null,
   "metadata": {},
   "outputs": [],
   "source": [
    "distances = tracks['track_1']['distances']\n",
    "points = tracks['track_1']['points']\n",
    "yaw_angles = tracks['track_1']['yaw_angles']\n",
    "\n",
    "plt.figure()\n",
    "plt.plot(distances, yaw_angles, '.-')\n",
    "plt.xlabel('DistanceRoundTrack')\n",
    "plt.ylabel('YawAngle')\n",
    "plt.show()\n",
    "\n",
    "plt.figure()\n",
    "x = points[:,0]\n",
    "y = points[:,1]\n",
    "plt.scatter(x, y, s=0.1)\n",
    "plt.gca().set_aspect('equal', 'datalim')\n",
    "plt.xlabel('WorldPosition_x')\n",
    "plt.ylabel('WorldPosition_z')\n",
    "plt.show()"
   ]
  },
  {
   "cell_type": "code",
   "execution_count": null,
   "metadata": {},
   "outputs": [
    {
     "name": "stdout",
     "output_type": "stream",
     "text": [
      "(274,)\n",
      "(274, 2)\n",
      "(274,)\n",
      "(360,)\n",
      "(360, 2)\n",
      "(360,)\n"
     ]
    }
   ],
   "source": [
    "for track_id in tracks.keys():\n",
    "    distances = tracks[track_id]['distances']\n",
    "    points = tracks[track_id]['points']\n",
    "    yaw_angles = tracks[track_id]['yaw_angles']\n",
    "    yaw_rates = np.diff(yaw_angles)\n",
    "\n",
    "    print(distances.shape)\n",
    "    print(points.shape)\n",
    "    print(yaw_angles.shape)\n",
    "\n",
    "    tracks[track_id]['distances'] = distances[1:]\n",
    "    tracks[track_id]['points'] = points[1:,:]\n",
    "    tracks[track_id]['yaw_angles'] = yaw_angles[1:]\n",
    "    tracks[track_id]['yaw_rates'] = yaw_rates[1:]\n",
    "\n",
    "plt.plot(tracks['track_1']['yaw_rates'])\n",
    "plt.show()\n"
   ]
  },
  {
   "cell_type": "code",
   "execution_count": null,
   "metadata": {},
   "outputs": [],
   "source": [
    "yaw_rate_threshold = 0.035\n",
    "\n",
    "\n",
    "yaw_rates = tracks['track_1']['yaw_rates']\n",
    "points = tracks['track_1']['points']\n",
    "\n",
    "\n",
    "left = np.where(yaw_rates>yaw_rate_threshold)[0]\n",
    "right = np.where(yaw_rates<-yaw_rate_threshold)[0]\n",
    "\n",
    "x = points[:,0]\n",
    "y = points[:,1]\n",
    "plt.scatter(x, y, s=0.1)\n",
    "x = points[left,0]\n",
    "y = points[left,1]\n",
    "plt.scatter(x, y, s=40)\n",
    "x = points[right,0]\n",
    "y = points[right,1]\n",
    "plt.scatter(x, y, s=40)\n",
    "plt.xlabel('WorldPosition_x')\n",
    "plt.ylabel('WorldPosition_z')\n",
    "plt.gca().set_aspect('equal', 'datalim')\n",
    "plt.show()"
   ]
  },
  {
   "cell_type": "code",
   "execution_count": null,
   "metadata": {},
   "outputs": [],
   "source": [
    "\n",
    "\n",
    "yaw_rates = tracks['track_2']['yaw_rates']\n",
    "points = tracks['track_2']['points']\n",
    "\n",
    "\n",
    "left = np.where(yaw_rates>yaw_rate_threshold)[0]\n",
    "right = np.where(yaw_rates<-yaw_rate_threshold)[0]\n",
    "\n",
    "x = points[:,0]\n",
    "y = points[:,1]\n",
    "plt.scatter(x, y, s=0.1)\n",
    "x = points[left,0]\n",
    "y = points[left,1]\n",
    "plt.scatter(x, y, s=40)\n",
    "x = points[right,0]\n",
    "y = points[right,1]\n",
    "plt.scatter(x, y, s=40)\n",
    "plt.xlabel('WorldPosition_x')\n",
    "plt.ylabel('WorldPosition_z')\n",
    "plt.gca().set_aspect('equal', 'datalim')\n",
    "\n",
    "plt.show()"
   ]
  }
 ],
 "metadata": {
  "kernelspec": {
   "display_name": "Python 3.6.9 64-bit",
   "language": "python",
   "name": "python3"
  },
  "language_info": {
   "codemirror_mode": {
    "name": "ipython",
    "version": 3
   },
   "file_extension": ".py",
   "mimetype": "text/x-python",
   "name": "python",
   "nbconvert_exporter": "python",
   "pygments_lexer": "ipython3",
   "version": "3.6.9"
  },
  "vscode": {
   "interpreter": {
    "hash": "31f2aee4e71d21fbe5cf8b01ff0e069b9275f58929596ceb00d14d90e3e16cd6"
   }
  }
 },
 "nbformat": 4,
 "nbformat_minor": 2
}
